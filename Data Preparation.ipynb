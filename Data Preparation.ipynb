{
 "cells": [
  {
   "cell_type": "code",
   "execution_count": 3,
   "metadata": {},
   "outputs": [],
   "source": [
    "import os\n",
    "import shutil\n",
    "import glob\n",
    "from tqdm import tqdm"
   ]
  },
  {
   "cell_type": "markdown",
   "metadata": {},
   "source": [
    "#\n",
    "subject ID:\n",
    "xxx\n",
    "\n",
    "image number:\n",
    "xxx\n",
    "\n",
    "gender:\n",
    "0 - male\n",
    "1 - famale\n",
    "\n",
    "glasses:\n",
    "0 - no\n",
    "1 - yes\n",
    "\n",
    "eye state:\n",
    "0 - close\n",
    "1 - open\n",
    "\n",
    "reflections:\n",
    "0 - none\n",
    "1 - low\n",
    "2 - high\n",
    "\n",
    "lighting conditions/image quality:\n",
    "0 - bad\n",
    "1 - good\n",
    "\n",
    "sensor type:\n",
    "01 - RealSense SR300 640x480\n",
    "02 - IDS Imaging, 1280x1024\n",
    "03 - Aptina Imagin 752x480\n",
    "\n",
    "example:\n",
    "s001_00123_0_0_0_0_0_01.png"
   ]
  },
  {
   "cell_type": "code",
   "execution_count": 4,
   "metadata": {},
   "outputs": [
    {
     "name": "stderr",
     "output_type": "stream",
     "text": [
      "0it [00:00, ?it/s]\n",
      "100%|██████████| 3242/3242 [00:17<00:00, 182.10it/s]\n",
      "100%|██████████| 1114/1114 [00:10<00:00, 110.13it/s]\n",
      "100%|██████████| 679/679 [00:06<00:00, 100.20it/s]\n",
      "100%|██████████| 1069/1069 [00:10<00:00, 102.60it/s]\n",
      "100%|██████████| 736/736 [00:07<00:00, 92.39it/s] \n",
      "100%|██████████| 1012/1012 [00:12<00:00, 79.49it/s]\n",
      "100%|██████████| 624/624 [00:08<00:00, 72.98it/s]\n",
      "100%|██████████| 832/832 [00:11<00:00, 69.97it/s]\n",
      "100%|██████████| 387/387 [00:05<00:00, 68.25it/s]\n",
      "100%|██████████| 399/399 [00:06<00:00, 60.59it/s]\n",
      "100%|██████████| 1648/1648 [00:28<00:00, 57.56it/s]\n",
      "100%|██████████| 8728/8728 [03:19<00:00, 43.69it/s]\n",
      "100%|██████████| 3605/3605 [01:19<00:00, 45.07it/s]\n",
      "100%|██████████| 8884/8884 [05:19<00:00, 27.79it/s]\n",
      "100%|██████████| 1132/1132 [00:58<00:00, 19.45it/s]\n",
      "100%|██████████| 1889/1889 [01:40<00:00, 18.86it/s]\n",
      "100%|██████████| 1648/1648 [01:27<00:00, 18.74it/s]\n",
      "100%|██████████| 4410/4410 [04:07<00:00, 17.81it/s]\n",
      "100%|██████████| 6175/6175 [06:01<00:00, 17.07it/s]\n",
      "100%|██████████| 704/704 [00:36<00:00, 19.43it/s]\n",
      "100%|██████████| 987/987 [00:52<00:00, 18.66it/s]\n",
      "100%|██████████| 382/382 [00:21<00:00, 17.82it/s]\n",
      "100%|██████████| 522/522 [00:29<00:00, 17.68it/s]\n",
      "100%|██████████| 752/752 [00:42<00:00, 17.60it/s]\n",
      "100%|██████████| 1502/1502 [01:17<00:00, 19.42it/s]\n",
      "100%|██████████| 1246/1246 [01:06<00:00, 18.84it/s]\n",
      "100%|██████████| 665/665 [00:39<00:00, 16.77it/s]\n",
      "100%|██████████| 736/736 [00:45<00:00, 16.20it/s]\n",
      "100%|██████████| 1393/1393 [01:27<00:00, 15.96it/s]\n",
      "100%|██████████| 1384/1384 [01:41<00:00, 13.66it/s]\n",
      "100%|██████████| 1738/1738 [01:51<00:00, 15.66it/s]\n",
      "100%|██████████| 6162/6162 [06:41<00:00, 15.36it/s]\n",
      "100%|██████████| 681/681 [00:45<00:00, 14.88it/s]\n",
      "100%|██████████| 739/739 [00:47<00:00, 15.64it/s]\n",
      "100%|██████████| 642/642 [00:43<00:00, 14.76it/s]\n",
      "100%|██████████| 6193/6193 [07:36<00:00, 13.56it/s]\n",
      "100%|██████████| 10257/10257 [14:32<00:00, 11.76it/s] \n"
     ]
    }
   ],
   "source": [
    "Raw_DIR= r'C:\\Users\\hp\\Documents\\Driver-Drowsiness-Detection-using-Deep-Learning\\MRL Eye Data\\mrlEyes_2018_01'\n",
    "for dirpath, dirname, filenames in os.walk(Raw_DIR):\n",
    "    for i in tqdm([f for f in filenames if f.endswith('.png')]):\n",
    "        if i.split('_')[4]=='0':\n",
    "            shutil.copy(src=dirpath+'/'+i, dst=r'C:\\Users\\hp\\Documents\\Driver-Drowsiness-Detection-using-Deep-Learning\\MRL Eye Data\\Prepared_Data\\Close Eyes')\n",
    "        \n",
    "        elif i.split('_')[4]=='1':\n",
    "            shutil.copy(src=dirpath+'/'+i, dst=r'C:\\Users\\hp\\Documents\\Driver-Drowsiness-Detection-using-Deep-Learning\\MRL Eye Data\\Prepared_Data\\Open Eyes')\n"
   ]
  },
  {
   "cell_type": "code",
   "execution_count": null,
   "metadata": {},
   "outputs": [],
   "source": []
  }
 ],
 "metadata": {
  "kernelspec": {
   "display_name": "Python 3 (ipykernel)",
   "language": "python",
   "name": "python3"
  },
  "language_info": {
   "codemirror_mode": {
    "name": "ipython",
    "version": 3
   },
   "file_extension": ".py",
   "mimetype": "text/x-python",
   "name": "python",
   "nbconvert_exporter": "python",
   "pygments_lexer": "ipython3",
   "version": "3.9.13"
  }
 },
 "nbformat": 4,
 "nbformat_minor": 4
}
